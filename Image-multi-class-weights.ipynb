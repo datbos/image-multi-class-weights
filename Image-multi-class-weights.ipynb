{
 "cells": [
  {
   "cell_type": "code",
   "execution_count": 1,
   "metadata": {
    "_cell_guid": "b1076dfc-b9ad-4769-8c92-a6c4dae69d19",
    "_uuid": "8f2839f25d086af736a60e9eeb907d3b93b6e0e5"
   },
   "outputs": [],
   "source": [
    "%matplotlib inline\n",
    "import matplotlib.pyplot as plt\n",
    "\n",
    "import numpy as np\n",
    "import pandas as pd"
   ]
  },
  {
   "cell_type": "code",
   "execution_count": 2,
   "metadata": {
    "_uuid": "b24c85f12904eb7d092d3c0996f38c6443ac8a3f"
   },
   "outputs": [
    {
     "name": "stderr",
     "output_type": "stream",
     "text": [
      "Using TensorFlow backend.\n"
     ]
    }
   ],
   "source": [
    "import os\n",
    "from glob import glob\n",
    "from copy import copy\n",
    "from sklearn.model_selection import train_test_split\n",
    "from keras.preprocessing.image import ImageDataGenerator"
   ]
  },
  {
   "cell_type": "code",
   "execution_count": 3,
   "metadata": {
    "_uuid": "c9471c8cb370dceb571d4e01a51600ae5bac1172"
   },
   "outputs": [],
   "source": [
    "random_seed = 0\n",
    "np.random.seed(random_seed)"
   ]
  },
  {
   "cell_type": "markdown",
   "metadata": {
    "_uuid": "91ec0bf8ba50d5420bb013f5077d884d6b90dff7"
   },
   "source": [
    "Load in the data training data, and separate it into training, validation, and test sets."
   ]
  },
  {
   "cell_type": "code",
   "execution_count": 4,
   "metadata": {
    "_cell_guid": "79c7e3d0-c299-4dcb-8224-4455121ee9b0",
    "_uuid": "d629ff2d2480ee46fbb7e2d37f6b5fab8052498a"
   },
   "outputs": [
    {
     "name": "stdout",
     "output_type": "stream",
     "text": [
      "total 5.7M\r\n",
      "-rw-r--r-- 1 root root 6.9K Apr 10 22:38 breed_labels.csv\r\n",
      "-rw-r--r-- 1 root root   88 Apr 10 22:38 color_labels.csv\r\n",
      "-rw-r--r-- 1 root root  285 Apr 10 22:38 state_labels.csv\r\n",
      "drwxr-xr-x 2 root root 4.0K Apr 10 22:38 test\r\n",
      "drwxr-xr-x 2 root root 512K Apr 10 22:40 test_images\r\n",
      "drwxr-xr-x 2 root root 516K Apr 10 22:42 test_metadata\r\n",
      "drwxr-xr-x 2 root root 132K Apr 10 22:43 test_sentiment\r\n",
      "drwxr-xr-x 2 root root 4.0K Apr 10 22:43 train\r\n",
      "drwxr-xr-x 2 root root 2.0M Apr 10 22:53 train_images\r\n",
      "drwxr-xr-x 2 root root 2.1M Apr 10 23:03 train_metadata\r\n",
      "drwxr-xr-x 2 root root 500K Apr 10 23:05 train_sentiment\r\n"
     ]
    }
   ],
   "source": [
    "!ls -lh ../input"
   ]
  },
  {
   "cell_type": "code",
   "execution_count": 5,
   "metadata": {
    "_uuid": "aafad115142338bdfa61f4e479c0084613200893"
   },
   "outputs": [
    {
     "data": {
      "text/plain": [
       "['Type',\n",
       " 'Name',\n",
       " 'Age',\n",
       " 'Breed1',\n",
       " 'Breed2',\n",
       " 'Gender',\n",
       " 'Color1',\n",
       " 'Color2',\n",
       " 'Color3',\n",
       " 'MaturitySize',\n",
       " 'FurLength',\n",
       " 'Vaccinated',\n",
       " 'Dewormed',\n",
       " 'Sterilized',\n",
       " 'Health',\n",
       " 'Quantity',\n",
       " 'Fee',\n",
       " 'State',\n",
       " 'RescuerID',\n",
       " 'VideoAmt',\n",
       " 'Description',\n",
       " 'PetID',\n",
       " 'PhotoAmt',\n",
       " 'AdoptionSpeed']"
      ]
     },
     "execution_count": 5,
     "metadata": {},
     "output_type": "execute_result"
    }
   ],
   "source": [
    "all_data = pd.read_csv('../input/train/train.csv')\n",
    "list(all_data.columns)"
   ]
  },
  {
   "cell_type": "code",
   "execution_count": 6,
   "metadata": {
    "_uuid": "6bcf96a6a6a01c7fab4f77c3374f2e0259e2a69c"
   },
   "outputs": [
    {
     "data": {
      "text/html": [
       "<div>\n",
       "<style scoped>\n",
       "    .dataframe tbody tr th:only-of-type {\n",
       "        vertical-align: middle;\n",
       "    }\n",
       "\n",
       "    .dataframe tbody tr th {\n",
       "        vertical-align: top;\n",
       "    }\n",
       "\n",
       "    .dataframe thead th {\n",
       "        text-align: right;\n",
       "    }\n",
       "</style>\n",
       "<table border=\"1\" class=\"dataframe\">\n",
       "  <thead>\n",
       "    <tr style=\"text-align: right;\">\n",
       "      <th></th>\n",
       "      <th>Type</th>\n",
       "      <th>Name</th>\n",
       "      <th>Age</th>\n",
       "      <th>Breed1</th>\n",
       "      <th>Breed2</th>\n",
       "      <th>Gender</th>\n",
       "      <th>Color1</th>\n",
       "      <th>Color2</th>\n",
       "      <th>Color3</th>\n",
       "      <th>MaturitySize</th>\n",
       "      <th>FurLength</th>\n",
       "      <th>Vaccinated</th>\n",
       "      <th>Dewormed</th>\n",
       "      <th>Sterilized</th>\n",
       "      <th>Health</th>\n",
       "      <th>Quantity</th>\n",
       "      <th>Fee</th>\n",
       "      <th>State</th>\n",
       "      <th>RescuerID</th>\n",
       "      <th>VideoAmt</th>\n",
       "      <th>Description</th>\n",
       "      <th>PetID</th>\n",
       "      <th>PhotoAmt</th>\n",
       "      <th>AdoptionSpeed</th>\n",
       "    </tr>\n",
       "  </thead>\n",
       "  <tbody>\n",
       "    <tr>\n",
       "      <th>0</th>\n",
       "      <td>2</td>\n",
       "      <td>Nibble</td>\n",
       "      <td>3</td>\n",
       "      <td>299</td>\n",
       "      <td>0</td>\n",
       "      <td>1</td>\n",
       "      <td>1</td>\n",
       "      <td>7</td>\n",
       "      <td>0</td>\n",
       "      <td>1</td>\n",
       "      <td>1</td>\n",
       "      <td>2</td>\n",
       "      <td>2</td>\n",
       "      <td>2</td>\n",
       "      <td>1</td>\n",
       "      <td>1</td>\n",
       "      <td>100</td>\n",
       "      <td>41326</td>\n",
       "      <td>8480853f516546f6cf33aa88cd76c379</td>\n",
       "      <td>0</td>\n",
       "      <td>Nibble is a 3+ month old ball of cuteness. He ...</td>\n",
       "      <td>86e1089a3</td>\n",
       "      <td>1.0</td>\n",
       "      <td>2</td>\n",
       "    </tr>\n",
       "    <tr>\n",
       "      <th>1</th>\n",
       "      <td>2</td>\n",
       "      <td>No Name Yet</td>\n",
       "      <td>1</td>\n",
       "      <td>265</td>\n",
       "      <td>0</td>\n",
       "      <td>1</td>\n",
       "      <td>1</td>\n",
       "      <td>2</td>\n",
       "      <td>0</td>\n",
       "      <td>2</td>\n",
       "      <td>2</td>\n",
       "      <td>3</td>\n",
       "      <td>3</td>\n",
       "      <td>3</td>\n",
       "      <td>1</td>\n",
       "      <td>1</td>\n",
       "      <td>0</td>\n",
       "      <td>41401</td>\n",
       "      <td>3082c7125d8fb66f7dd4bff4192c8b14</td>\n",
       "      <td>0</td>\n",
       "      <td>I just found it alone yesterday near my apartm...</td>\n",
       "      <td>6296e909a</td>\n",
       "      <td>2.0</td>\n",
       "      <td>0</td>\n",
       "    </tr>\n",
       "    <tr>\n",
       "      <th>2</th>\n",
       "      <td>1</td>\n",
       "      <td>Brisco</td>\n",
       "      <td>1</td>\n",
       "      <td>307</td>\n",
       "      <td>0</td>\n",
       "      <td>1</td>\n",
       "      <td>2</td>\n",
       "      <td>7</td>\n",
       "      <td>0</td>\n",
       "      <td>2</td>\n",
       "      <td>2</td>\n",
       "      <td>1</td>\n",
       "      <td>1</td>\n",
       "      <td>2</td>\n",
       "      <td>1</td>\n",
       "      <td>1</td>\n",
       "      <td>0</td>\n",
       "      <td>41326</td>\n",
       "      <td>fa90fa5b1ee11c86938398b60abc32cb</td>\n",
       "      <td>0</td>\n",
       "      <td>Their pregnant mother was dumped by her irresp...</td>\n",
       "      <td>3422e4906</td>\n",
       "      <td>7.0</td>\n",
       "      <td>3</td>\n",
       "    </tr>\n",
       "    <tr>\n",
       "      <th>3</th>\n",
       "      <td>1</td>\n",
       "      <td>Miko</td>\n",
       "      <td>4</td>\n",
       "      <td>307</td>\n",
       "      <td>0</td>\n",
       "      <td>2</td>\n",
       "      <td>1</td>\n",
       "      <td>2</td>\n",
       "      <td>0</td>\n",
       "      <td>2</td>\n",
       "      <td>1</td>\n",
       "      <td>1</td>\n",
       "      <td>1</td>\n",
       "      <td>2</td>\n",
       "      <td>1</td>\n",
       "      <td>1</td>\n",
       "      <td>150</td>\n",
       "      <td>41401</td>\n",
       "      <td>9238e4f44c71a75282e62f7136c6b240</td>\n",
       "      <td>0</td>\n",
       "      <td>Good guard dog, very alert, active, obedience ...</td>\n",
       "      <td>5842f1ff5</td>\n",
       "      <td>8.0</td>\n",
       "      <td>2</td>\n",
       "    </tr>\n",
       "    <tr>\n",
       "      <th>4</th>\n",
       "      <td>1</td>\n",
       "      <td>Hunter</td>\n",
       "      <td>1</td>\n",
       "      <td>307</td>\n",
       "      <td>0</td>\n",
       "      <td>1</td>\n",
       "      <td>1</td>\n",
       "      <td>0</td>\n",
       "      <td>0</td>\n",
       "      <td>2</td>\n",
       "      <td>1</td>\n",
       "      <td>2</td>\n",
       "      <td>2</td>\n",
       "      <td>2</td>\n",
       "      <td>1</td>\n",
       "      <td>1</td>\n",
       "      <td>0</td>\n",
       "      <td>41326</td>\n",
       "      <td>95481e953f8aed9ec3d16fc4509537e8</td>\n",
       "      <td>0</td>\n",
       "      <td>This handsome yet cute boy is up for adoption....</td>\n",
       "      <td>850a43f90</td>\n",
       "      <td>3.0</td>\n",
       "      <td>2</td>\n",
       "    </tr>\n",
       "  </tbody>\n",
       "</table>\n",
       "</div>"
      ],
      "text/plain": [
       "   Type         Name  Age      ...            PetID  PhotoAmt  AdoptionSpeed\n",
       "0     2       Nibble    3      ...        86e1089a3       1.0              2\n",
       "1     2  No Name Yet    1      ...        6296e909a       2.0              0\n",
       "2     1       Brisco    1      ...        3422e4906       7.0              3\n",
       "3     1         Miko    4      ...        5842f1ff5       8.0              2\n",
       "4     1       Hunter    1      ...        850a43f90       3.0              2\n",
       "\n",
       "[5 rows x 24 columns]"
      ]
     },
     "execution_count": 6,
     "metadata": {},
     "output_type": "execute_result"
    }
   ],
   "source": [
    "all_data.head()"
   ]
  },
  {
   "cell_type": "markdown",
   "metadata": {
    "_uuid": "bb5ad512c9247f1a0c0dd3a984f34212ea3ba5c1"
   },
   "source": [
    "Create a new dataframe that is unique on the image, but repeats data per pet."
   ]
  },
  {
   "cell_type": "code",
   "execution_count": 7,
   "metadata": {
    "_uuid": "bb869d697151250f819650b04b04fa67238dcda0"
   },
   "outputs": [],
   "source": [
    "pet_data = all_data.set_index('PetID')"
   ]
  },
  {
   "cell_type": "code",
   "execution_count": 8,
   "metadata": {
    "_uuid": "47bedcd3ff154203c91b72bb1b1388d58dce40a7"
   },
   "outputs": [],
   "source": [
    "image_data = []\n",
    "\n",
    "for image in glob('../input/train_images/*.jpg'):\n",
    "    basename = os.path.basename(image)\n",
    "    pet_id, _ = basename.rsplit('-')\n",
    "    pet_row = pet_data.loc[pet_id].to_dict()\n",
    "    pet_row['ImageFilename'] = image\n",
    "    pet_row['ImageBasename'] = basename\n",
    "    image_data.append(pet_row)\n",
    "    \n",
    "image_data = pd.DataFrame(image_data)"
   ]
  },
  {
   "cell_type": "code",
   "execution_count": 9,
   "metadata": {
    "_uuid": "a3ac75e8ec462f54181d83fca77746d7a666e85b"
   },
   "outputs": [
    {
     "data": {
      "text/html": [
       "<div>\n",
       "<style scoped>\n",
       "    .dataframe tbody tr th:only-of-type {\n",
       "        vertical-align: middle;\n",
       "    }\n",
       "\n",
       "    .dataframe tbody tr th {\n",
       "        vertical-align: top;\n",
       "    }\n",
       "\n",
       "    .dataframe thead th {\n",
       "        text-align: right;\n",
       "    }\n",
       "</style>\n",
       "<table border=\"1\" class=\"dataframe\">\n",
       "  <thead>\n",
       "    <tr style=\"text-align: right;\">\n",
       "      <th></th>\n",
       "      <th>AdoptionSpeed</th>\n",
       "      <th>Age</th>\n",
       "      <th>Breed1</th>\n",
       "      <th>Breed2</th>\n",
       "      <th>Color1</th>\n",
       "      <th>Color2</th>\n",
       "      <th>Color3</th>\n",
       "      <th>Description</th>\n",
       "      <th>Dewormed</th>\n",
       "      <th>Fee</th>\n",
       "      <th>FurLength</th>\n",
       "      <th>Gender</th>\n",
       "      <th>Health</th>\n",
       "      <th>ImageBasename</th>\n",
       "      <th>ImageFilename</th>\n",
       "      <th>MaturitySize</th>\n",
       "      <th>Name</th>\n",
       "      <th>PhotoAmt</th>\n",
       "      <th>Quantity</th>\n",
       "      <th>RescuerID</th>\n",
       "      <th>State</th>\n",
       "      <th>Sterilized</th>\n",
       "      <th>Type</th>\n",
       "      <th>Vaccinated</th>\n",
       "      <th>VideoAmt</th>\n",
       "    </tr>\n",
       "  </thead>\n",
       "  <tbody>\n",
       "    <tr>\n",
       "      <th>0</th>\n",
       "      <td>1</td>\n",
       "      <td>120</td>\n",
       "      <td>20</td>\n",
       "      <td>195</td>\n",
       "      <td>2</td>\n",
       "      <td>0</td>\n",
       "      <td>0</td>\n",
       "      <td>2 males beagle &amp; schnauzer for adoption. 10 &amp; ...</td>\n",
       "      <td>1</td>\n",
       "      <td>0</td>\n",
       "      <td>1</td>\n",
       "      <td>1</td>\n",
       "      <td>1</td>\n",
       "      <td>8e0d65b3e-1.jpg</td>\n",
       "      <td>../input/train_images/8e0d65b3e-1.jpg</td>\n",
       "      <td>2</td>\n",
       "      <td>NaN</td>\n",
       "      <td>1.0</td>\n",
       "      <td>2</td>\n",
       "      <td>310cd86ec76858f026b95e421b833294</td>\n",
       "      <td>41326</td>\n",
       "      <td>2</td>\n",
       "      <td>1</td>\n",
       "      <td>1</td>\n",
       "      <td>0</td>\n",
       "    </tr>\n",
       "    <tr>\n",
       "      <th>1</th>\n",
       "      <td>3</td>\n",
       "      <td>8</td>\n",
       "      <td>266</td>\n",
       "      <td>0</td>\n",
       "      <td>1</td>\n",
       "      <td>2</td>\n",
       "      <td>7</td>\n",
       "      <td>Stray cat-Female 8mths. already spayed her on ...</td>\n",
       "      <td>1</td>\n",
       "      <td>0</td>\n",
       "      <td>1</td>\n",
       "      <td>2</td>\n",
       "      <td>1</td>\n",
       "      <td>6c9aeeb27-2.jpg</td>\n",
       "      <td>../input/train_images/6c9aeeb27-2.jpg</td>\n",
       "      <td>2</td>\n",
       "      <td>Kitten RA9</td>\n",
       "      <td>3.0</td>\n",
       "      <td>1</td>\n",
       "      <td>b770bac0ca797cf1433c48a35d30c4cb</td>\n",
       "      <td>41401</td>\n",
       "      <td>1</td>\n",
       "      <td>2</td>\n",
       "      <td>1</td>\n",
       "      <td>0</td>\n",
       "    </tr>\n",
       "    <tr>\n",
       "      <th>2</th>\n",
       "      <td>2</td>\n",
       "      <td>3</td>\n",
       "      <td>307</td>\n",
       "      <td>0</td>\n",
       "      <td>7</td>\n",
       "      <td>0</td>\n",
       "      <td>0</td>\n",
       "      <td>Lovely, she came to my house yesterday. Trying...</td>\n",
       "      <td>1</td>\n",
       "      <td>0</td>\n",
       "      <td>2</td>\n",
       "      <td>2</td>\n",
       "      <td>1</td>\n",
       "      <td>33bfeb403-3.jpg</td>\n",
       "      <td>../input/train_images/33bfeb403-3.jpg</td>\n",
       "      <td>2</td>\n",
       "      <td>Lovely</td>\n",
       "      <td>3.0</td>\n",
       "      <td>1</td>\n",
       "      <td>df5dac2d2a3a28ba15c09cc65bc468de</td>\n",
       "      <td>41336</td>\n",
       "      <td>2</td>\n",
       "      <td>1</td>\n",
       "      <td>2</td>\n",
       "      <td>0</td>\n",
       "    </tr>\n",
       "    <tr>\n",
       "      <th>3</th>\n",
       "      <td>4</td>\n",
       "      <td>8</td>\n",
       "      <td>266</td>\n",
       "      <td>0</td>\n",
       "      <td>1</td>\n",
       "      <td>2</td>\n",
       "      <td>0</td>\n",
       "      <td>they r ol so cute :) it juz a matter me dun hv...</td>\n",
       "      <td>2</td>\n",
       "      <td>50</td>\n",
       "      <td>1</td>\n",
       "      <td>3</td>\n",
       "      <td>1</td>\n",
       "      <td>35f9818a7-9.jpg</td>\n",
       "      <td>../input/train_images/35f9818a7-9.jpg</td>\n",
       "      <td>2</td>\n",
       "      <td>Anak Nanya</td>\n",
       "      <td>14.0</td>\n",
       "      <td>3</td>\n",
       "      <td>f14c2cfebbbafbc9ed1f500d082f3ec3</td>\n",
       "      <td>41326</td>\n",
       "      <td>2</td>\n",
       "      <td>2</td>\n",
       "      <td>2</td>\n",
       "      <td>0</td>\n",
       "    </tr>\n",
       "    <tr>\n",
       "      <th>4</th>\n",
       "      <td>1</td>\n",
       "      <td>2</td>\n",
       "      <td>307</td>\n",
       "      <td>0</td>\n",
       "      <td>1</td>\n",
       "      <td>2</td>\n",
       "      <td>5</td>\n",
       "      <td>Very grateful that after a week of interview a...</td>\n",
       "      <td>2</td>\n",
       "      <td>0</td>\n",
       "      <td>1</td>\n",
       "      <td>3</td>\n",
       "      <td>1</td>\n",
       "      <td>c2aeb6a1f-17.jpg</td>\n",
       "      <td>../input/train_images/c2aeb6a1f-17.jpg</td>\n",
       "      <td>2</td>\n",
       "      <td>âª Moomoo's Babies âª</td>\n",
       "      <td>20.0</td>\n",
       "      <td>6</td>\n",
       "      <td>d73b10f170720b7edc3c12fc93b1fc63</td>\n",
       "      <td>41336</td>\n",
       "      <td>2</td>\n",
       "      <td>1</td>\n",
       "      <td>2</td>\n",
       "      <td>0</td>\n",
       "    </tr>\n",
       "  </tbody>\n",
       "</table>\n",
       "</div>"
      ],
      "text/plain": [
       "   AdoptionSpeed  Age  Breed1    ...     Type  Vaccinated  VideoAmt\n",
       "0              1  120      20    ...        1           1         0\n",
       "1              3    8     266    ...        2           1         0\n",
       "2              2    3     307    ...        1           2         0\n",
       "3              4    8     266    ...        2           2         0\n",
       "4              1    2     307    ...        1           2         0\n",
       "\n",
       "[5 rows x 25 columns]"
      ]
     },
     "execution_count": 9,
     "metadata": {},
     "output_type": "execute_result"
    }
   ],
   "source": [
    "image_data.head()"
   ]
  },
  {
   "cell_type": "code",
   "execution_count": 10,
   "metadata": {},
   "outputs": [],
   "source": [
    "image_data['AdoptionSpeed']= image_data['AdoptionSpeed'].astype(str)"
   ]
  },
  {
   "cell_type": "code",
   "execution_count": 11,
   "metadata": {
    "_uuid": "4fc2624ce181f07b4afae96c9c1ced47fad4095a"
   },
   "outputs": [
    {
     "data": {
      "text/plain": [
       "(58311, 14993)"
      ]
     },
     "execution_count": 11,
     "metadata": {},
     "output_type": "execute_result"
    }
   ],
   "source": [
    "len(image_data), len(pet_data)"
   ]
  },
  {
   "cell_type": "markdown",
   "metadata": {
    "_uuid": "20ff257b4a6eb8ed39cade255e750b2e5b7ce8c1"
   },
   "source": [
    "Split the data into train, validation, and test sets."
   ]
  },
  {
   "cell_type": "code",
   "execution_count": 12,
   "metadata": {
    "_uuid": "621623e009fdaf71fee6322d7f78f52be415bcbc"
   },
   "outputs": [],
   "source": [
    "y = image_data['AdoptionSpeed']"
   ]
  },
  {
   "cell_type": "code",
   "execution_count": 13,
   "metadata": {
    "_uuid": "4c408c9fa03021c1b96b5d18e0138b6c2ce890b3"
   },
   "outputs": [
    {
     "data": {
      "text/plain": [
       "((46648, 25), (5831, 25), (5832, 25))"
      ]
     },
     "execution_count": 13,
     "metadata": {},
     "output_type": "execute_result"
    }
   ],
   "source": [
    "test_size = 0.2\n",
    "validation_size = 0.2\n",
    "\n",
    "# Split the training data off from leftover (i.e. validation and testing)\n",
    "X_train, X_leftover, y_train, y_leftover = train_test_split(\n",
    "    image_data, y, test_size=test_size, random_state=random_seed,\n",
    "    stratify=y.values # stratify to ensure equal distribution of classes\n",
    ")\n",
    "\n",
    "# Determine how much the leftover section should be split to test\n",
    "test_split = test_size / (test_size + validation_size)\n",
    "\n",
    "X_validate, X_test, y_validate, y_test = train_test_split(\n",
    "    X_leftover, y_leftover, test_size=test_split, random_state=random_seed,\n",
    "    stratify=y_leftover.values # stratify to ensure equal distribution of classes\n",
    ")\n",
    "\n",
    "X_train.shape, X_validate.shape, X_test.shape"
   ]
  },
  {
   "cell_type": "code",
   "execution_count": 14,
   "metadata": {
    "_uuid": "bfe4b17ee2a9d784eabd9e9eac095efae143e3ff"
   },
   "outputs": [],
   "source": [
    "train_datagen = ImageDataGenerator(\n",
    "    rescale=1./255,\n",
    "    rotation_range=40,\n",
    "    width_shift_range=0.2,\n",
    "    height_shift_range=0.2,\n",
    "    shear_range=0.2,\n",
    "    zoom_range=0.2,\n",
    "    horizontal_flip=True)\n",
    "\n",
    "val_datagen = ImageDataGenerator(rescale=1./255)"
   ]
  },
  {
   "cell_type": "code",
   "execution_count": 15,
   "metadata": {
    "_uuid": "4412e4cc304179ef98f2f65b1171aabbb6851620"
   },
   "outputs": [],
   "source": [
    "BATCH_SIZE = 50\n",
    "VAL_BATCH = BATCH_SIZE * 2"
   ]
  },
  {
   "cell_type": "code",
   "execution_count": 16,
   "metadata": {
    "_uuid": "026d9866f3cd71afc702ad2e326d6e404a397fd6"
   },
   "outputs": [
    {
     "name": "stdout",
     "output_type": "stream",
     "text": [
      "Found 46648 images belonging to 5 classes.\n",
      "Found 5831 images belonging to 5 classes.\n"
     ]
    }
   ],
   "source": [
    "train_generator = train_datagen.flow_from_dataframe(\n",
    "    X_train.reset_index(), # Need to reset index due to bug in flow_from_dataframe\n",
    "    directory='../input/train_images/',\n",
    "    x_col='ImageBasename',\n",
    "    y_col='AdoptionSpeed',\n",
    "    target_size=(224, 224),\n",
    "    color_mode='rgb',\n",
    "    class_mode='categorical',\n",
    "    batch_size=BATCH_SIZE,\n",
    ")\n",
    "\n",
    "val_generator = val_datagen.flow_from_dataframe(\n",
    "    X_validate.reset_index(), # Need to reset index due to bug in flow_from_dataframe\n",
    "    directory='../input/train_images/',\n",
    "    x_col='ImageBasename',\n",
    "    y_col='AdoptionSpeed',\n",
    "    target_size=(224, 224),\n",
    "    color_mode='rgb',\n",
    "    class_mode='categorical',\n",
    "    batch_size=VAL_BATCH,\n",
    ")"
   ]
  },
  {
   "cell_type": "code",
   "execution_count": 17,
   "metadata": {},
   "outputs": [],
   "source": [
    "from collections import Counter\n",
    "counter = Counter(train_generator.classes)                          \n",
    "max_val = float(max(counter.values()))       \n",
    "class_weights = {class_id : max_val/num_images for class_id, num_images in counter.items()}        "
   ]
  },
  {
   "cell_type": "code",
   "execution_count": 18,
   "metadata": {},
   "outputs": [
    {
     "data": {
      "text/plain": [
       "{1: 1.427176036466247,\n",
       " 2: 1.0,\n",
       " 4: 1.1796896025836547,\n",
       " 3: 1.0915580642483607,\n",
       " 0: 12.064220183486238}"
      ]
     },
     "execution_count": 18,
     "metadata": {},
     "output_type": "execute_result"
    }
   ],
   "source": [
    "class_weights\n"
   ]
  },
  {
   "cell_type": "code",
   "execution_count": 19,
   "metadata": {
    "_uuid": "d58114f470ffbf0a6c5f165697720bb5d09780b5"
   },
   "outputs": [],
   "source": [
    "from keras.applications.densenet import DenseNet121\n",
    "from keras.layers import Dense, GlobalAveragePooling2D\n",
    "from keras.models import Model"
   ]
  },
  {
   "cell_type": "code",
   "execution_count": 20,
   "metadata": {},
   "outputs": [],
   "source": [
    "# import regularizer\n",
    "from keras import regularizers\n",
    "\n",
    "from keras.regularizers import l1\n",
    "# instantiate regularizer\n",
    "reg = l1(0.001)\n",
    "\n",
    "# example of l1 norm on activity from a cnn layer\n",
    "from keras.layers import Conv2D\n",
    "from keras.regularizers import l1"
   ]
  },
  {
   "cell_type": "code",
   "execution_count": 21,
   "metadata": {
    "_uuid": "698998568182fab388a594cfa0101f77f5d08d5c"
   },
   "outputs": [
    {
     "name": "stdout",
     "output_type": "stream",
     "text": [
      "WARNING:tensorflow:From /opt/conda/lib/python3.6/site-packages/tensorflow/python/framework/op_def_library.py:263: colocate_with (from tensorflow.python.framework.ops) is deprecated and will be removed in a future version.\n",
      "Instructions for updating:\n",
      "Colocations handled automatically by placer.\n",
      "Downloading data from https://github.com/keras-team/keras-applications/releases/download/densenet/densenet121_weights_tf_dim_ordering_tf_kernels.h5\n",
      "33193984/33188688 [==============================] - 1s 0us/step\n"
     ]
    }
   ],
   "source": [
    "base_model = DenseNet121(weights='imagenet', include_top=True)"
   ]
  },
  {
   "cell_type": "code",
   "execution_count": 22,
   "metadata": {
    "_uuid": "4f50a7159c10b0d4ad680af5f5d56a5d728d35a5"
   },
   "outputs": [],
   "source": [
    "x = base_model.output\n",
    "x = Dense(1024, activation='relu',\n",
    "          activity_regularizer=l1(0.001)\n",
    "         )(x)\n",
    "predictions = Dense(5, activation='softmax')(x)"
   ]
  },
  {
   "cell_type": "code",
   "execution_count": 23,
   "metadata": {
    "_uuid": "57f076c5f3035cec1d2b5ce1b35472ef1422ad2a"
   },
   "outputs": [],
   "source": [
    "model = Model(inputs=base_model.input, outputs=predictions)"
   ]
  },
  {
   "cell_type": "code",
   "execution_count": 24,
   "metadata": {
    "_uuid": "49478538809c206f1f72084fefb3503c9e99e864"
   },
   "outputs": [],
   "source": [
    "for layer in base_model.layers:\n",
    "    layer.trainable = False"
   ]
  },
  {
   "cell_type": "code",
   "execution_count": 25,
   "metadata": {},
   "outputs": [],
   "source": [
    "from keras.optimizers import RMSprop\n",
    "#rmsprop = RMSprop(lr=0.0001, rho=0.9, epsilon=1e-6)\n",
    "rmsprop = RMSprop(lr=0.0001)"
   ]
  },
  {
   "cell_type": "code",
   "execution_count": 26,
   "metadata": {
    "_uuid": "2d8cb38c1574241f0cbc5db92a6ab6e407240237"
   },
   "outputs": [],
   "source": [
    "model.compile(\n",
    "    optimizer= \"rmsprop\",\n",
    "    loss='categorical_crossentropy',\n",
    "    metrics=['accuracy'],\n",
    ")"
   ]
  },
  {
   "cell_type": "code",
   "execution_count": 27,
   "metadata": {
    "_uuid": "647161980d997fc1cb2a56e67f8c08b01cda5c97"
   },
   "outputs": [
    {
     "name": "stdout",
     "output_type": "stream",
     "text": [
      "WARNING:tensorflow:From /opt/conda/lib/python3.6/site-packages/tensorflow/python/ops/math_ops.py:3066: to_int32 (from tensorflow.python.ops.math_ops) is deprecated and will be removed in a future version.\n",
      "Instructions for updating:\n",
      "Use tf.cast instead.\n",
      "Epoch 1/5\n",
      "932/932 [==============================] - 853s 915ms/step - loss: 1.5259 - acc: 0.2819 - val_loss: 1.4793 - val_acc: 0.2819\n",
      "Epoch 2/5\n",
      "932/932 [==============================] - 750s 804ms/step - loss: 1.4647 - acc: 0.2818 - val_loss: 1.4585 - val_acc: 0.2820\n",
      "Epoch 3/5\n",
      "932/932 [==============================] - 748s 803ms/step - loss: 1.4518 - acc: 0.2833 - val_loss: 1.4560 - val_acc: 0.2926\n",
      "Epoch 4/5\n",
      "932/932 [==============================] - 749s 804ms/step - loss: 1.4440 - acc: 0.3081 - val_loss: 1.4543 - val_acc: 0.3146\n",
      "Epoch 5/5\n",
      "932/932 [==============================] - 746s 800ms/step - loss: 1.4385 - acc: 0.3148 - val_loss: 1.4561 - val_acc: 0.3123\n"
     ]
    }
   ],
   "source": [
    "# TODO: Add batch size to train and validation\n",
    "history = model.fit_generator(\n",
    "    train_generator,\n",
    "    epochs=5,\n",
    "    steps_per_epoch=len(X_train)//BATCH_SIZE,\n",
    "#    steps_per_epoch=100,\n",
    "    validation_data=val_generator,\n",
    "    validation_steps=len(X_validate)//VAL_BATCH,\n",
    "#    validation_steps=100,\n",
    "    # TODO: Add class weight\n",
    "#    workers=4,\n",
    "#    class_weight=class_weights,\n",
    "    use_multiprocessing=True,\n",
    "    shuffle=True\n",
    ")"
   ]
  },
  {
   "cell_type": "code",
   "execution_count": 28,
   "metadata": {
    "_uuid": "81e74defd72949ff5431f423f906188d8f94706e"
   },
   "outputs": [
    {
     "data": {
      "text/plain": [
       "Text(0.5, 1.0, 'Training and validation loss')"
      ]
     },
     "execution_count": 28,
     "metadata": {},
     "output_type": "execute_result"
    },
    {
     "data": {
      "image/png": "[encoded data removed]",
      "text/plain": [
       "<Figure size 432x288 with 1 Axes>"
      ]
     },
     "metadata": {},
     "output_type": "display_data"
    },
    {
     "data": {
      "image/png": "[encoded data removed]",
      "text/plain": [
       "<Figure size 432x288 with 1 Axes>"
      ]
     },
     "metadata": {},
     "output_type": "display_data"
    }
   ],
   "source": [
    "%matplotlib inline\n",
    "\n",
    "import matplotlib.pyplot as plt\n",
    "import matplotlib.image as mpimg\n",
    "\n",
    "# Retrieve a list of accuracy results on training and test data\n",
    "# sets for each training epoch\n",
    "acc = history.history['acc']\n",
    "val_acc = history.history['val_acc']\n",
    "\n",
    "# Retrieve a list of list results on training and test data\n",
    "# sets for each training epoch\n",
    "loss = history.history['loss']\n",
    "val_loss = history.history['val_loss']\n",
    "\n",
    "# Get number of epochs\n",
    "epochs = range(len(acc))\n",
    "\n",
    "# Plot training and validation accuracy per epoch\n",
    "plt.plot(epochs, acc)\n",
    "plt.plot(epochs, val_acc)\n",
    "plt.title('Training and validation accuracy')\n",
    "\n",
    "plt.figure()\n",
    "\n",
    "# Plot training and validation loss per epoch\n",
    "plt.plot(epochs, loss)\n",
    "plt.plot(epochs, val_loss)\n",
    "plt.title('Training and validation loss')"
   ]
  }
 ],
 "metadata": {
  "kernelspec": {
   "display_name": "Python 3",
   "language": "python",
   "name": "python3"
  },
  "language_info": {
   "codemirror_mode": {
    "name": "ipython",
    "version": 3
   },
   "file_extension": ".py",
   "mimetype": "text/x-python",
   "name": "python",
   "nbconvert_exporter": "python",
   "pygments_lexer": "ipython3",
   "version": "3.6.6"
  }
 },
 "nbformat": 4,
 "nbformat_minor": 1
}
