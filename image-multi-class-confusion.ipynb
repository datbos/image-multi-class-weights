{
 "cells": [
  {
   "cell_type": "code",
   "execution_count": 1,
   "metadata": {
    "_cell_guid": "b1076dfc-b9ad-4769-8c92-a6c4dae69d19",
    "_uuid": "8f2839f25d086af736a60e9eeb907d3b93b6e0e5"
   },
   "outputs": [],
   "source": [
    "%matplotlib inline\n",
    "import matplotlib.pyplot as plt\n",
    "\n",
    "import numpy as np\n",
    "import pandas as pd"
   ]
  },
  {
   "cell_type": "code",
   "execution_count": 2,
   "metadata": {
    "_cell_guid": "79c7e3d0-c299-4dcb-8224-4455121ee9b0",
    "_uuid": "d629ff2d2480ee46fbb7e2d37f6b5fab8052498a"
   },
   "outputs": [
    {
     "name": "stderr",
     "output_type": "stream",
     "text": [
      "Using TensorFlow backend.\n"
     ]
    }
   ],
   "source": [
    "import os\n",
    "from glob import glob\n",
    "from copy import copy\n",
    "from sklearn.model_selection import train_test_split\n",
    "from keras.preprocessing.image import ImageDataGenerator"
   ]
  },
  {
   "cell_type": "code",
   "execution_count": 3,
   "metadata": {
    "_uuid": "18c41871453fa8a4ead2604f938b178701883af7"
   },
   "outputs": [],
   "source": [
    "random_seed = 0\n",
    "np.random.seed(random_seed)"
   ]
  },
  {
   "cell_type": "code",
   "execution_count": 4,
   "metadata": {
    "_uuid": "a85e72f50cc89d34f868fb2f3954dd8a01591eef"
   },
   "outputs": [
    {
     "name": "stdout",
     "output_type": "stream",
     "text": [
      "total 5.8M\r\n",
      "-rw-r--r-- 1 root root 6.9K Dec 28 05:11 breed_labels.csv\r\n",
      "-rw-r--r-- 1 root root   88 Dec 28 05:11 color_labels.csv\r\n",
      "-rw-r--r-- 1 root root  285 Dec 28 05:11 state_labels.csv\r\n",
      "drwxr-xr-x 2 root root 4.0K Dec 28 05:11 test\r\n",
      "drwxr-xr-x 2 root root 520K Dec 28 05:14 test_images\r\n",
      "drwxr-xr-x 2 root root 544K Dec 28 05:17 test_metadata\r\n",
      "drwxr-xr-x 2 root root 132K Dec 28 05:18 test_sentiment\r\n",
      "drwxr-xr-x 2 root root 4.0K Dec 28 05:18 train\r\n",
      "drwxr-xr-x 2 root root 2.0M Dec 28 05:32 train_images\r\n",
      "drwxr-xr-x 2 root root 2.1M Dec 28 05:46 train_metadata\r\n",
      "drwxr-xr-x 2 root root 496K Dec 28 05:50 train_sentiment\r\n"
     ]
    }
   ],
   "source": [
    "!ls -lh ../input"
   ]
  },
  {
   "cell_type": "code",
   "execution_count": 5,
   "metadata": {
    "_uuid": "21a4080a42381fd96230080bae354255282b5a10"
   },
   "outputs": [
    {
     "data": {
      "text/plain": [
       "['Type',\n",
       " 'Name',\n",
       " 'Age',\n",
       " 'Breed1',\n",
       " 'Breed2',\n",
       " 'Gender',\n",
       " 'Color1',\n",
       " 'Color2',\n",
       " 'Color3',\n",
       " 'MaturitySize',\n",
       " 'FurLength',\n",
       " 'Vaccinated',\n",
       " 'Dewormed',\n",
       " 'Sterilized',\n",
       " 'Health',\n",
       " 'Quantity',\n",
       " 'Fee',\n",
       " 'State',\n",
       " 'RescuerID',\n",
       " 'VideoAmt',\n",
       " 'Description',\n",
       " 'PetID',\n",
       " 'PhotoAmt',\n",
       " 'AdoptionSpeed']"
      ]
     },
     "execution_count": 5,
     "metadata": {},
     "output_type": "execute_result"
    }
   ],
   "source": [
    "all_data = pd.read_csv('../input/train/train.csv')\n",
    "list(all_data.columns)"
   ]
  },
  {
   "cell_type": "code",
   "execution_count": 6,
   "metadata": {
    "_uuid": "64703d29f45e6d77bb28d435489f960fba4ec9ec"
   },
   "outputs": [
    {
     "data": {
      "text/html": [
       "<div>\n",
       "<style scoped>\n",
       "    .dataframe tbody tr th:only-of-type {\n",
       "        vertical-align: middle;\n",
       "    }\n",
       "\n",
       "    .dataframe tbody tr th {\n",
       "        vertical-align: top;\n",
       "    }\n",
       "\n",
       "    .dataframe thead th {\n",
       "        text-align: right;\n",
       "    }\n",
       "</style>\n",
       "<table border=\"1\" class=\"dataframe\">\n",
       "  <thead>\n",
       "    <tr style=\"text-align: right;\">\n",
       "      <th></th>\n",
       "      <th>AdoptionSpeed</th>\n",
       "      <th>Age</th>\n",
       "      <th>Breed1</th>\n",
       "      <th>Breed2</th>\n",
       "      <th>Color1</th>\n",
       "      <th>Color2</th>\n",
       "      <th>Color3</th>\n",
       "      <th>Description</th>\n",
       "      <th>Dewormed</th>\n",
       "      <th>Fee</th>\n",
       "      <th>FurLength</th>\n",
       "      <th>Gender</th>\n",
       "      <th>Health</th>\n",
       "      <th>ImageBasename</th>\n",
       "      <th>ImageFilename</th>\n",
       "      <th>MaturitySize</th>\n",
       "      <th>Name</th>\n",
       "      <th>PhotoAmt</th>\n",
       "      <th>Quantity</th>\n",
       "      <th>RescuerID</th>\n",
       "      <th>State</th>\n",
       "      <th>Sterilized</th>\n",
       "      <th>Type</th>\n",
       "      <th>Vaccinated</th>\n",
       "      <th>VideoAmt</th>\n",
       "    </tr>\n",
       "  </thead>\n",
       "  <tbody>\n",
       "    <tr>\n",
       "      <th>0</th>\n",
       "      <td>1</td>\n",
       "      <td>120</td>\n",
       "      <td>20</td>\n",
       "      <td>195</td>\n",
       "      <td>2</td>\n",
       "      <td>0</td>\n",
       "      <td>0</td>\n",
       "      <td>2 males beagle &amp; schnauzer for adoption. 10 &amp; ...</td>\n",
       "      <td>1</td>\n",
       "      <td>0</td>\n",
       "      <td>1</td>\n",
       "      <td>1</td>\n",
       "      <td>1</td>\n",
       "      <td>8e0d65b3e-1.jpg</td>\n",
       "      <td>../input/train_images/8e0d65b3e-1.jpg</td>\n",
       "      <td>2</td>\n",
       "      <td>NaN</td>\n",
       "      <td>1.0</td>\n",
       "      <td>2</td>\n",
       "      <td>310cd86ec76858f026b95e421b833294</td>\n",
       "      <td>41326</td>\n",
       "      <td>2</td>\n",
       "      <td>1</td>\n",
       "      <td>1</td>\n",
       "      <td>0</td>\n",
       "    </tr>\n",
       "    <tr>\n",
       "      <th>1</th>\n",
       "      <td>3</td>\n",
       "      <td>8</td>\n",
       "      <td>266</td>\n",
       "      <td>0</td>\n",
       "      <td>1</td>\n",
       "      <td>2</td>\n",
       "      <td>7</td>\n",
       "      <td>Stray cat-Female 8mths. already spayed her on ...</td>\n",
       "      <td>1</td>\n",
       "      <td>0</td>\n",
       "      <td>1</td>\n",
       "      <td>2</td>\n",
       "      <td>1</td>\n",
       "      <td>6c9aeeb27-2.jpg</td>\n",
       "      <td>../input/train_images/6c9aeeb27-2.jpg</td>\n",
       "      <td>2</td>\n",
       "      <td>Kitten RA9</td>\n",
       "      <td>3.0</td>\n",
       "      <td>1</td>\n",
       "      <td>b770bac0ca797cf1433c48a35d30c4cb</td>\n",
       "      <td>41401</td>\n",
       "      <td>1</td>\n",
       "      <td>2</td>\n",
       "      <td>1</td>\n",
       "      <td>0</td>\n",
       "    </tr>\n",
       "  </tbody>\n",
       "</table>\n",
       "</div>"
      ],
      "text/plain": [
       "  AdoptionSpeed  Age  Breed1    ...     Type  Vaccinated  VideoAmt\n",
       "0             1  120      20    ...        1           1         0\n",
       "1             3    8     266    ...        2           1         0\n",
       "\n",
       "[2 rows x 25 columns]"
      ]
     },
     "execution_count": 6,
     "metadata": {},
     "output_type": "execute_result"
    }
   ],
   "source": [
    "pet_data = all_data.set_index('PetID')\n",
    "image_data = []\n",
    "\n",
    "for image in glob('../input/train_images/*.jpg'):\n",
    "    basename = os.path.basename(image)\n",
    "    pet_id, _ = basename.rsplit('-')\n",
    "    pet_row = pet_data.loc[pet_id].to_dict()\n",
    "    pet_row['ImageFilename'] = image\n",
    "    pet_row['ImageBasename'] = basename\n",
    "    image_data.append(pet_row)\n",
    "    \n",
    "image_data = pd.DataFrame(image_data)\n",
    "image_data['AdoptionSpeed']= image_data['AdoptionSpeed'].astype(str)\n",
    "image_data.head(2)"
   ]
  },
  {
   "cell_type": "code",
   "execution_count": 7,
   "metadata": {
    "_uuid": "14ba9f9d079e24182cf51e8ba1eba00d5d86ca39"
   },
   "outputs": [
    {
     "data": {
      "text/plain": [
       "(58311, 14993)"
      ]
     },
     "execution_count": 7,
     "metadata": {},
     "output_type": "execute_result"
    }
   ],
   "source": [
    "len(image_data), len(pet_data)"
   ]
  },
  {
   "cell_type": "code",
   "execution_count": 8,
   "metadata": {
    "_uuid": "3e1185d1c46cadb2e479302bd608b207e3883436"
   },
   "outputs": [
    {
     "data": {
      "text/plain": [
       "((46648, 25), (5831, 25), (5832, 25))"
      ]
     },
     "execution_count": 8,
     "metadata": {},
     "output_type": "execute_result"
    }
   ],
   "source": [
    "y = image_data['AdoptionSpeed']\n",
    "test_size = 0.2\n",
    "validation_size = 0.2\n",
    "\n",
    "# Split the training data off from leftover (i.e. validation and testing)\n",
    "# train_test_split(*arrays, **options)\n",
    "# random_state is the seed used by the random number generator\n",
    "# data is split in a stratified fashion, using this as the class labels\n",
    "X_train, X_leftover, y_train, y_leftover = train_test_split(\n",
    "    image_data, y, test_size=test_size, random_state=random_seed,\n",
    "    stratify=y.values # stratify to ensure equal distribution of classes\n",
    ")\n",
    "\n",
    "# Determine how much the leftover section should be split to test\n",
    "test_split = test_size / (test_size + validation_size)\n",
    "\n",
    "X_validate, X_test, y_validate, y_test = train_test_split(\n",
    "    X_leftover, y_leftover, test_size=test_split, random_state=random_seed,\n",
    "    stratify=y_leftover.values # stratify to ensure equal distribution of classes\n",
    ")\n",
    "\n",
    "X_train.shape, X_validate.shape, X_test.shape"
   ]
  },
  {
   "cell_type": "code",
   "execution_count": 9,
   "metadata": {
    "_uuid": "79e70e70c6b7ccc5f052937fd841d192b4ffb3d3"
   },
   "outputs": [],
   "source": [
    "train_datagen = ImageDataGenerator(\n",
    "    rescale=1./255,\n",
    "    rotation_range=40,\n",
    "    width_shift_range=0.2,\n",
    "    height_shift_range=0.2,\n",
    "    shear_range=0.2,\n",
    "    zoom_range=0.2,\n",
    "    horizontal_flip=True)\n",
    "\n",
    "val_datagen = ImageDataGenerator(rescale=1./255)"
   ]
  },
  {
   "cell_type": "code",
   "execution_count": 10,
   "metadata": {
    "_uuid": "89396d68e17b5b1f65c9135a94ad7883e8073c72"
   },
   "outputs": [
    {
     "data": {
      "text/plain": [
       "AdoptionSpeed     object\n",
       "Age                int64\n",
       "Breed1             int64\n",
       "Breed2             int64\n",
       "Color1             int64\n",
       "Color2             int64\n",
       "Color3             int64\n",
       "Description       object\n",
       "Dewormed           int64\n",
       "Fee                int64\n",
       "FurLength          int64\n",
       "Gender             int64\n",
       "Health             int64\n",
       "ImageBasename     object\n",
       "ImageFilename     object\n",
       "MaturitySize       int64\n",
       "Name              object\n",
       "PhotoAmt         float64\n",
       "Quantity           int64\n",
       "RescuerID         object\n",
       "State              int64\n",
       "Sterilized         int64\n",
       "Type               int64\n",
       "Vaccinated         int64\n",
       "VideoAmt           int64\n",
       "dtype: object"
      ]
     },
     "execution_count": 10,
     "metadata": {},
     "output_type": "execute_result"
    }
   ],
   "source": [
    "BATCH_SIZE = 20\n",
    "image_data.dtypes"
   ]
  },
  {
   "cell_type": "code",
   "execution_count": 11,
   "metadata": {
    "_uuid": "5df1913c0210e2fa52de0e10fc3d2b6150c07b95"
   },
   "outputs": [
    {
     "name": "stdout",
     "output_type": "stream",
     "text": [
      "Found 46648 images belonging to 5 classes.\n",
      "Found 5831 images belonging to 5 classes.\n"
     ]
    }
   ],
   "source": [
    "# Generate batches of tensor image data with real-time data augmentation. \n",
    "# The data will be looped over (in batches).\n",
    "\n",
    "train_generator = train_datagen.flow_from_dataframe(\n",
    "    X_train.reset_index(), # Need to reset index due to bug in flow_from_dataframe\n",
    "    directory='../input/train_images/',\n",
    "    x_col='ImageBasename',\n",
    "    y_col='AdoptionSpeed',\n",
    "    target_size=(224, 224),\n",
    "    color_mode='rgb',\n",
    "    class_mode='categorical',\n",
    "    batch_size=BATCH_SIZE,\n",
    ")\n",
    "\n",
    "val_generator = val_datagen.flow_from_dataframe(\n",
    "    X_validate.reset_index(), # Need to reset index due to bug in flow_from_dataframe\n",
    "    directory='../input/train_images/',\n",
    "    x_col='ImageBasename',\n",
    "    y_col='AdoptionSpeed',\n",
    "    target_size=(224, 224),\n",
    "    color_mode='rgb',\n",
    "    class_mode='categorical',\n",
    "    batch_size=BATCH_SIZE,\n",
    ")"
   ]
  },
  {
   "cell_type": "code",
   "execution_count": 12,
   "metadata": {
    "_uuid": "71aaf4c1c163258255bb5247aefee57f701e4d7f"
   },
   "outputs": [],
   "source": [
    "import os\n",
    "from tensorflow.keras import layers\n",
    "from tensorflow.keras import Model"
   ]
  },
  {
   "cell_type": "code",
   "execution_count": 13,
   "metadata": {
    "_uuid": "0fdca6f9a762397b5c59a7800e81bb9c2bceccf5"
   },
   "outputs": [
    {
     "name": "stdout",
     "output_type": "stream",
     "text": [
      "--2019-04-09 15:05:18--  https://storage.googleapis.com/mledu-datasets/inception_v3_weights_tf_dim_ordering_tf_kernels_notop.h5\r\n",
      "Resolving storage.googleapis.com (storage.googleapis.com)... 74.125.195.128, 2607:f8b0:400e:c09::80\r\n",
      "Connecting to storage.googleapis.com (storage.googleapis.com)|74.125.195.128|:443... connected.\r\n",
      "HTTP request sent, awaiting response... 200 OK\r\n",
      "Length: 87910968 (84M) [application/x-hdf]\r\n",
      "Saving to: ‘/tmp/inception_v3_weights_tf_dim_ordering_tf_kernels_notop.h5’\r\n",
      "\r\n",
      "/tmp/inception_v3_w 100%[===================>]  83.84M  77.5MB/s    in 1.1s    \r\n",
      "\r\n",
      "2019-04-09 15:05:20 (77.5 MB/s) - ‘/tmp/inception_v3_weights_tf_dim_ordering_tf_kernels_notop.h5’ saved [87910968/87910968]\r\n",
      "\r\n"
     ]
    }
   ],
   "source": [
    "!wget --no-check-certificate \\\n",
    "    https://storage.googleapis.com/mledu-datasets/inception_v3_weights_tf_dim_ordering_tf_kernels_notop.h5 \\\n",
    "    -O /tmp/inception_v3_weights_tf_dim_ordering_tf_kernels_notop.h5"
   ]
  },
  {
   "cell_type": "code",
   "execution_count": 14,
   "metadata": {
    "_uuid": "6845e990b1c240a5d030242bab1a588b350cdc80"
   },
   "outputs": [
    {
     "name": "stdout",
     "output_type": "stream",
     "text": [
      "WARNING:tensorflow:From /opt/conda/lib/python3.6/site-packages/tensorflow/python/ops/resource_variable_ops.py:435: colocate_with (from tensorflow.python.framework.ops) is deprecated and will be removed in a future version.\n",
      "Instructions for updating:\n",
      "Colocations handled automatically by placer.\n"
     ]
    }
   ],
   "source": [
    "from tensorflow.keras.applications.inception_v3 import InceptionV3\n",
    "\n",
    "local_weights_file = '/tmp/inception_v3_weights_tf_dim_ordering_tf_kernels_notop.h5'\n",
    "pre_trained_model = InceptionV3(\n",
    "    input_shape=(224, 224, 3), include_top=False, weights=None)\n",
    "pre_trained_model.load_weights(local_weights_file)"
   ]
  },
  {
   "cell_type": "code",
   "execution_count": 15,
   "metadata": {
    "_uuid": "0481c19b0d1b760bd5d27aa54f26ed51bd317611"
   },
   "outputs": [],
   "source": [
    "for layer in pre_trained_model.layers:\n",
    "  layer.trainable = False"
   ]
  },
  {
   "cell_type": "code",
   "execution_count": 16,
   "metadata": {
    "_uuid": "5ea0997d217ef23e3ab849764ac66ad4814facce"
   },
   "outputs": [
    {
     "name": "stdout",
     "output_type": "stream",
     "text": [
      "last layer output shape: (None, 12, 12, 768)\n"
     ]
    }
   ],
   "source": [
    "last_layer = pre_trained_model.get_layer('mixed7')\n",
    "print ('last layer output shape:', last_layer.output_shape)\n",
    "last_output = last_layer.output"
   ]
  },
  {
   "cell_type": "code",
   "execution_count": 17,
   "metadata": {},
   "outputs": [],
   "source": [
    "from sklearn.metrics import classification_report\n",
    "from sklearn.metrics import confusion_matrix\n",
    "from sklearn.metrics import precision_recall_fscore_support"
   ]
  },
  {
   "cell_type": "code",
   "execution_count": 18,
   "metadata": {},
   "outputs": [],
   "source": [
    "# import regularizer\n",
    "from keras.regularizers import l1\n",
    "# instantiate regularizer\n",
    "reg = l1(0.001)\n",
    "\n",
    "# example of l1 norm on activity from a cnn layer\n",
    "from keras.layers import Conv2D\n",
    "from keras.regularizers import l1"
   ]
  },
  {
   "cell_type": "code",
   "execution_count": 19,
   "metadata": {},
   "outputs": [],
   "source": [
    "from keras import regularizers\n"
   ]
  },
  {
   "cell_type": "code",
   "execution_count": 20,
   "metadata": {
    "_uuid": "1d59fa63f7184be87a7f14362398202eae3f2928"
   },
   "outputs": [
    {
     "name": "stdout",
     "output_type": "stream",
     "text": [
      "WARNING:tensorflow:From /opt/conda/lib/python3.6/site-packages/tensorflow/python/keras/layers/core.py:143: calling dropout (from tensorflow.python.ops.nn_ops) with keep_prob is deprecated and will be removed in a future version.\n",
      "Instructions for updating:\n",
      "Please use `rate` instead of `keep_prob`. Rate should be set to `rate = 1 - keep_prob`.\n"
     ]
    }
   ],
   "source": [
    "# Flatten the output layer to 1 dimension\n",
    "x = layers.Flatten()(last_output)\n",
    "# Add a fully connected layer with 1,024 hidden units and ReLU activation\n",
    "x = layers.Dense(1024, activation='relu', kernel_regularizer=regularizers.l2(0.01), \n",
    "                 activity_regularizer=l1(0.001))(x)\n",
    "# Add a dropout rate of 0.2\n",
    "x = layers.Dropout(0.5)(x)\n",
    "# Add a final sigmoid layer for classification\n",
    "x = layers.Dense(5, activation='softmax')(x)\n",
    "\n",
    "# Dropout is a a technique used to tackle Overfitting . \n",
    "# The Dropout method in keras.layers module takes in a \n",
    "# float between 0 and 1, which is the fraction of the \n",
    "# neurons to drop. \n",
    "\n",
    "# Configure and compile the model\n",
    "model = Model(pre_trained_model.input, x)\n"
   ]
  },
  {
   "cell_type": "code",
   "execution_count": 21,
   "metadata": {
    "_uuid": "5dd67d25b0c17c660ef4981112dd17e95ec7d35e"
   },
   "outputs": [],
   "source": [
    "from tensorflow.keras.optimizers import SGD\n",
    "\n",
    "unfreeze = False\n",
    "\n",
    "# Unfreeze all models after \"mixed6\"\n",
    "for layer in pre_trained_model.layers:\n",
    "  if unfreeze:\n",
    "    layer.trainable = True\n",
    "  if layer.name == 'mixed6':\n",
    "    unfreeze = True\n",
    "\n",
    "# As an optimizer, here we will use SGD \n",
    "# with a very low learning rate (0.00001)\n",
    "model.compile(loss='categorical_crossentropy',\n",
    "              optimizer=SGD(\n",
    "                  lr=0.00001, \n",
    "                  momentum=0.9),\n",
    "              metrics=['acc'])"
   ]
  },
  {
   "cell_type": "code",
   "execution_count": 22,
   "metadata": {},
   "outputs": [],
   "source": [
    "steps_train = len(X_train)//BATCH_SIZE\n",
    "steps_val = len(X_validate)//BATCH_SIZE\n"
   ]
  },
  {
   "cell_type": "code",
   "execution_count": 23,
   "metadata": {},
   "outputs": [
    {
     "name": "stdout",
     "output_type": "stream",
     "text": [
      "WARNING:tensorflow:From /opt/conda/lib/python3.6/site-packages/tensorflow/python/ops/math_ops.py:3066: to_int32 (from tensorflow.python.ops.math_ops) is deprecated and will be removed in a future version.\n",
      "Instructions for updating:\n",
      "Use tf.cast instead.\n",
      "Epoch 1/10\n",
      "292/292 [==============================] - 33s 113ms/step - loss: 21.6533 - acc: 0.2771\n",
      "2333/2333 [==============================] - 715s 307ms/step - loss: 21.7854 - acc: 0.2676 - val_loss: 21.6533 - val_acc: 0.2771\n",
      "Epoch 2/10\n",
      "292/292 [==============================] - 30s 104ms/step - loss: 21.4309 - acc: 0.2864\n",
      "2333/2333 [==============================] - 699s 300ms/step - loss: 21.5253 - acc: 0.2749 - val_loss: 21.4309 - val_acc: 0.2864\n",
      "Epoch 3/10\n",
      " 628/2333 [=======>......................] - ETA: 8:03 - loss: 21.3937 - acc: 0.2829"
     ]
    }
   ],
   "source": [
    "history = model.fit_generator(\n",
    "      train_generator,\n",
    "      steps_per_epoch=steps_train,\n",
    "      epochs=10,\n",
    "      validation_data=val_generator,\n",
    "      validation_steps=steps_val,\n",
    "      workers=4,\n",
    "      use_multiprocessing=True,\n",
    "      shuffle=True,\n",
    "      verbose=1)"
   ]
  },
  {
   "cell_type": "code",
   "execution_count": 24,
   "metadata": {},
   "outputs": [],
   "source": [
    "predictions = model.predict_generator(val_generator, steps=steps_val)"
   ]
  },
  {
   "cell_type": "code",
   "execution_count": 25,
   "metadata": {},
   "outputs": [],
   "source": [
    "val_preds = np.argmax(predictions, axis=-1)\n",
    "val_trues = val_generator.classes"
   ]
  },
  {
   "cell_type": "code",
   "execution_count": 26,
   "metadata": {},
   "outputs": [],
   "source": [
    "#cm = confusion_matrix(val_trues, val_preds)\n",
    "class_names = ['1','2','3','4','5']"
   ]
  },
  {
   "cell_type": "code",
   "execution_count": 27,
   "metadata": {},
   "outputs": [],
   "source": [
    "def plot_confusion_matrix(y_true, y_pred, classes,\n",
    "                          normalize=False,\n",
    "                          title=None,\n",
    "                          cmap=plt.cm.Blues):\n",
    "    \"\"\"\n",
    "    This function prints and plots the confusion matrix.\n",
    "    Normalization can be applied by setting `normalize=True`.\n",
    "    \"\"\"\n",
    "    if not title:\n",
    "        if normalize:\n",
    "            title = 'Normalized confusion matrix'\n",
    "        else:\n",
    "            title = 'Confusion matrix, without normalization'\n",
    "\n",
    "    # Compute confusion matrix\n",
    "    cm = confusion_matrix(y_true, y_pred)\n",
    "    # Only use the labels that appear in the data\n",
    "    #classes = classes[unique_labels(y_true, y_pred)]\n",
    "    if normalize:\n",
    "        cm = cm.astype('float') / cm.sum(axis=1)[:, np.newaxis]\n",
    "        print(\"Normalized confusion matrix\")\n",
    "    else:\n",
    "        print('Confusion matrix, without normalization')\n",
    "\n",
    "    print(cm)\n",
    "\n",
    "    fig, ax = plt.subplots()\n",
    "    im = ax.imshow(cm, interpolation='nearest', cmap=cmap)\n",
    "    ax.figure.colorbar(im, ax=ax)\n",
    "    # We want to show all ticks...\n",
    "    ax.set(xticks=np.arange(cm.shape[1]),\n",
    "           yticks=np.arange(cm.shape[0]),\n",
    "           # ... and label them with the respective list entries\n",
    "           xticklabels=classes, yticklabels=classes,\n",
    "           title=title,\n",
    "           ylabel='True label',\n",
    "           xlabel='Predicted label')\n",
    "\n",
    "    # Rotate the tick labels and set their alignment.\n",
    "    plt.setp(ax.get_xticklabels(), rotation=45, ha=\"right\",\n",
    "             rotation_mode=\"anchor\")\n",
    "\n",
    "    # Loop over data dimensions and create text annotations.\n",
    "    fmt = '.2f' if normalize else 'd'\n",
    "    thresh = cm.max() / 2.\n",
    "    for i in range(cm.shape[0]):\n",
    "        for j in range(cm.shape[1]):\n",
    "            ax.text(j, i, format(cm[i, j], fmt),\n",
    "                    ha=\"center\", va=\"center\",\n",
    "                    color=\"white\" if cm[i, j] > thresh else \"black\")\n",
    "    fig.tight_layout()\n",
    "    return ax"
   ]
  },
  {
   "cell_type": "code",
   "execution_count": 28,
   "metadata": {},
   "outputs": [],
   "source": [
    "np.set_printoptions(precision=2)"
   ]
  },
  {
   "cell_type": "code",
   "execution_count": 29,
   "metadata": {},
   "outputs": [
    {
     "name": "stdout",
     "output_type": "stream",
     "text": [
      "Confusion matrix, without normalization\n",
      "[[   0    4   95   18   20]\n",
      " [   0   32  734  222  163]\n",
      " [   0   58 1028  315  243]\n",
      " [   0   55  941  304  206]\n",
      " [   0   34  867  277  215]]\n"
     ]
    },
    {
     "data": {
      "text/plain": [
       "<matplotlib.axes._subplots.AxesSubplot at 0x7fcac8346ba8>"
      ]
     },
     "execution_count": 29,
     "metadata": {},
     "output_type": "execute_result"
    },
    {
     "data": {
      "image/png": "[encoded data removed]",
      "text/plain": [
       "<Figure size 432x288 with 2 Axes>"
      ]
     },
     "metadata": {},
     "output_type": "display_data"
    }
   ],
   "source": [
    "# Plot non-normalized confusion matrix\n",
    "plot_confusion_matrix(val_trues, val_preds, classes=class_names,\n",
    "                      title='Confusion matrix, without normalization')"
   ]
  },
  {
   "cell_type": "code",
   "execution_count": 30,
   "metadata": {},
   "outputs": [
    {
     "name": "stdout",
     "output_type": "stream",
     "text": [
      "Normalized confusion matrix\n",
      "[[0.   0.03 0.69 0.13 0.15]\n",
      " [0.   0.03 0.64 0.19 0.14]\n",
      " [0.   0.04 0.63 0.19 0.15]\n",
      " [0.   0.04 0.62 0.2  0.14]\n",
      " [0.   0.02 0.62 0.2  0.15]]\n"
     ]
    },
    {
     "data": {
      "text/plain": [
       "<matplotlib.axes._subplots.AxesSubplot at 0x7fcac831df98>"
      ]
     },
     "execution_count": 30,
     "metadata": {},
     "output_type": "execute_result"
    },
    {
     "data": {
      "image/png": "[encoded data removed]",
      "text/plain": [
       "<Figure size 432x288 with 2 Axes>"
      ]
     },
     "metadata": {},
     "output_type": "display_data"
    }
   ],
   "source": [
    "# Plot normalized confusion matrix\n",
    "plot_confusion_matrix(val_trues, val_preds, classes=class_names, normalize=True,\n",
    "                      title='Normalized confusion matrix')"
   ]
  },
  {
   "cell_type": "code",
   "execution_count": 31,
   "metadata": {},
   "outputs": [],
   "source": [
    "plt.show()"
   ]
  },
  {
   "cell_type": "code",
   "execution_count": 32,
   "metadata": {},
   "outputs": [],
   "source": [
    "#labels = val_generator.class_indices.keys()\n",
    "#precisions, recall, f1_score, _ = precision_recall_fscore_support(val_trues, val_preds, labels=labels)"
   ]
  },
  {
   "cell_type": "code",
   "execution_count": 33,
   "metadata": {
    "_uuid": "0fe48d5f5df9ed14dd47a74f8c4b221e2c69da5b"
   },
   "outputs": [
    {
     "data": {
      "text/plain": [
       "Text(0.5, 1.0, 'Training and validation loss')"
      ]
     },
     "execution_count": 33,
     "metadata": {},
     "output_type": "execute_result"
    },
    {
     "data": {
      "image/png": "[encoded data removed]",
      "text/plain": [
       "<Figure size 432x288 with 1 Axes>"
      ]
     },
     "metadata": {},
     "output_type": "display_data"
    },
    {
     "data": {
      "image/png": "[encoded data removed]",
      "text/plain": [
       "<Figure size 432x288 with 1 Axes>"
      ]
     },
     "metadata": {},
     "output_type": "display_data"
    }
   ],
   "source": [
    "%matplotlib inline\n",
    "\n",
    "import matplotlib.pyplot as plt\n",
    "import matplotlib.image as mpimg\n",
    "\n",
    "# Retrieve a list of accuracy results on training and test data\n",
    "# sets for each training epoch\n",
    "acc = history.history['acc']\n",
    "val_acc = history.history['val_acc']\n",
    "\n",
    "# Retrieve a list of list results on training and test data\n",
    "# sets for each training epoch\n",
    "loss = history.history['loss']\n",
    "val_loss = history.history['val_loss']\n",
    "\n",
    "# Get number of epochs\n",
    "epochs = range(len(acc))\n",
    "\n",
    "# Plot training and validation accuracy per epoch\n",
    "plt.plot(epochs, acc)\n",
    "plt.plot(epochs, val_acc)\n",
    "plt.title('Training and validation accuracy')\n",
    "\n",
    "plt.figure()\n",
    "\n",
    "# Plot training and validation loss per epoch\n",
    "plt.plot(epochs, loss)\n",
    "plt.plot(epochs, val_loss)\n",
    "plt.title('Training and validation loss')"
   ]
  }
 ],
 "metadata": {
  "kernelspec": {
   "display_name": "Python 3",
   "language": "python",
   "name": "python3"
  },
  "language_info": {
   "codemirror_mode": {
    "name": "ipython",
    "version": 3
   },
   "file_extension": ".py",
   "mimetype": "text/x-python",
   "name": "python",
   "nbconvert_exporter": "python",
   "pygments_lexer": "ipython3",
   "version": "3.6.6"
  }
 },
 "nbformat": 4,
 "nbformat_minor": 1
}
